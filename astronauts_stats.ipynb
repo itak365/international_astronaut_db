{
 "cells": [
  {
   "cell_type": "markdown",
   "metadata": {},
   "source": [
    "# Python Data Analysis of Major Spaceflight Milestones\n",
    "## A Python Project by Ian Takaoka"
   ]
  },
  {
   "cell_type": "markdown",
   "metadata": {},
   "source": [
    "## Introduction\n",
    "\n",
    "*Since 1961, **600 humans** have achieved spaceflight from **37 countries**, and this number increases yearly.*\n",
    "*This project aims to use Python with Wikipedia integration to provide information and useful statistics on some of these astronauts.*"
   ]
  },
  {
   "cell_type": "markdown",
   "metadata": {},
   "source": [
    "## Data Import\n",
    "Credits: Mariya Stavnichuk and Tatsuya Corlett (original database), Georgios Karamanis via Kaggle (for csv)\n",
    "\n",
    "From the author: \n",
    ">*\"This database contains publically available information about all astronauts who participated in space missions before 15 January 2020 collected from NASA, Roscosmos, and fun-made websites. The provided information includes full astronaut name, sex, date of birth, nationality, military status, a title and year of a selection program, and information about each mission completed by a particular astronaut such as a year, ascend and descend shuttle names, mission and extravehicular activity (EVAs) durations.\"*\n",
    "\n",
    "Limitations (from me): \n",
    "This does not include spaceflight statistics after January 2020. As the Soviet Union did not distinguish between nationalities within its borders, the USSR/Russia field may include cosmonauts from other Soviet Republics and not specifically from the Russian SFSR. Additionally, no commercial astronauts are listed, as SpaceX's Crew Dragon Demo-2, the first manned commercial spaceflight, did not launch until May 2020. \n"
   ]
  },
  {
   "cell_type": "code",
   "execution_count": null,
   "metadata": {},
   "outputs": [],
   "source": [
    "import pandas as pd\n",
    "import numpy as np\n",
    "\n",
    "##Will return info from Wikipedia about specific individuals. Make sure to pip install wikipedia before proceeding with this program\n",
    "import wikipedia as wiki\n",
    "##Runs the Cyrtranslit module as data cleaning for Cyrillic names. Make sure to pip install cyrtranslit before proceeding\n",
    "##import cyrtranslit as cyr\n",
    "\n",
    "from matplotlib import pyplot as plt\n",
    "##Under the hood to allow multiple Wikipedia summaries per cell\n",
    "from IPython.core.interactiveshell import InteractiveShell\n",
    "InteractiveShell.ast_node_interactivity = 'all'\n",
    "\n",
    "pd.set_option('chained_assignment',None)\n",
    "\n",
    "\n",
    "astronaut_raw = pd.read_csv('astronauts.csv')\n",
    "astronaut_raw.drop_duplicates(subset=['name' , 'original_name'], keep= 'first')"
   ]
  },
  {
   "cell_type": "markdown",
   "metadata": {},
   "source": [
    "## Astronaut Nationality\n",
    "\n",
    "The Soviet Union was the first nation to achieve manned spaceflight in 1961. Since then, 37 countries have sent humans to space. "
   ]
  },
  {
   "cell_type": "code",
   "execution_count": null,
   "metadata": {},
   "outputs": [],
   "source": [
    "##This dataframe needs to remove duplicates, as many astronauts went to space more than once. \n",
    "df1 = astronaut_raw[['name', 'nationality', 'year_of_mission', 'mission_title']]\n",
    "nations=df1.drop_duplicates(subset ='name', keep = 'first') \n",
    "nations_counts=nations['nationality'].value_counts()\n",
    "print(nations_counts);\n",
    "nations_counts.plot(kind = 'pie');"
   ]
  },
  {
   "cell_type": "code",
   "execution_count": null,
   "metadata": {},
   "outputs": [],
   "source": [
    "usrussia = nations[nations['nationality'].str.contains(\"U.S.\")==True]\n",
    "usrussia_counts = usrussia['nationality'].value_counts()\n",
    "print(usrussia_counts);\n",
    "usrussia_counts.plot(kind = 'pie');"
   ]
  },
  {
   "cell_type": "markdown",
   "metadata": {},
   "source": [
    "## Astronaut Age\n",
    "During the Space Race, the first astronauts and cosmonauts were primarily drawn from the military and government sectors. Specifically, due to the highly experimental nature of early manned spaceflight, the first astronauts were almost exclusively test pilots from the armed forces, and as such were well into their military careers. Civilians were eventually drawn into the space program, typically highly degreed scientists as mission specialists. Currently, NASA maintains that Astronaut Candidates (ASCANs) must have at least a Master's degree in a Science, Technology, Engineering, and Mathematics (STEM) field and extensive professional experience, or 1000 hours of pilot command time in jet aircraft. This tends to skew average astronaut ages at selection to early 30s, with crew selections set years in advance of mission launch to allow for adequate training and mission control experience. Thus, many astronauts are in their early 40s at mission launch. \n",
    "\n",
    "The youngest astronauts at time of selection were the Soviet cosmonauts **Pyotr Klimuk** , **Gennady Sarafanov** and **Vyacheslav Zudov,** who were each 23 years old. The youngest humans to achieve spaceflight were Soviet cosmonauts **Gherman Titov** and **Valentina Tereshkova**, each at 26 years old. 32 year old **Sally Ride** is the youngest American to achieve spaceflight.\n",
    "\n",
    "Private citizen **Dennis Tito** at 60 years old currently holds the record for oldest astronaut at selection, while American career astronaut **John Glenn** is the oldest astronaut at time of launch at 77 years old*.\n",
    "\n",
    "<sub><sup>As of 2022, 90-year old actor William Shatner surpassed John Glenn as the oldest human in space with Blue Origin. As mentioned previously, this is beyond the scope of the dataset</sup></sub>"
   ]
  },
  {
   "cell_type": "markdown",
   "metadata": {},
   "source": [
    "### Age At Selection"
   ]
  },
  {
   "cell_type": "code",
   "execution_count": null,
   "metadata": {},
   "outputs": [],
   "source": [
    "df2 = astronaut_raw[['name', 'year_of_birth', 'year_of_selection', 'nationality', 'selection']]\n",
    "\n",
    "df2['age_at_selection'] = df2['year_of_selection'] - df2['year_of_birth']\n",
    "\n",
    "df2.drop_duplicates(subset=['name'], keep= 'first')"
   ]
  },
  {
   "cell_type": "code",
   "execution_count": null,
   "metadata": {},
   "outputs": [],
   "source": [
    "selection_year = df2[['year_of_selection']].to_numpy()\n",
    "selection_age = df2[['age_at_selection']].to_numpy()\n",
    "plt.figure(figsize = (12, 6))\n",
    "plt.scatter(selection_year, selection_age, marker= '+', color = 'red')\n",
    "plt.xlabel('Selection Year')\n",
    "plt.ylabel('Age at First Selection')\n",
    "plt.title('Distribution of Astronaut Candidate Age')\n",
    "plt.show();"
   ]
  },
  {
   "cell_type": "code",
   "execution_count": null,
   "metadata": {},
   "outputs": [],
   "source": [
    "##Mean Age of Astronaut Candidates\n",
    "df2_mean = (df2.age_at_selection.mean())\n",
    "print('The average age of all astronaut candidates prior to 2020 is ' + str(round(df2_mean)) + ' ' + 'years old.' )"
   ]
  },
  {
   "cell_type": "code",
   "execution_count": null,
   "metadata": {},
   "outputs": [],
   "source": [
    "##Youngest Astronauts at Selection\n",
    "df2_youngest = (df2[df2.age_at_selection == df2.age_at_selection.min()])\n",
    "df2_youngest.drop_duplicates(subset=['name'], keep= 'first')"
   ]
  },
  {
   "cell_type": "code",
   "execution_count": null,
   "metadata": {},
   "outputs": [],
   "source": [
    "##Oldest Astronaut at Selection \n",
    "df2_oldest = (df2[df2.age_at_selection == df2.age_at_selection.max()])\n",
    "df2_oldest.drop_duplicates(subset=['name'], keep= 'first')"
   ]
  },
  {
   "cell_type": "code",
   "execution_count": null,
   "metadata": {},
   "outputs": [],
   "source": [
    "wiki.summary(df2_oldest['name'])"
   ]
  },
  {
   "cell_type": "markdown",
   "metadata": {},
   "source": [
    "### Age at Spaceflight"
   ]
  },
  {
   "cell_type": "code",
   "execution_count": null,
   "metadata": {},
   "outputs": [],
   "source": [
    "df3 = astronaut_raw[['name', 'year_of_birth', 'year_of_mission', 'nationality', 'mission_title']]\n",
    "\n",
    "df3['age_at_mission'] = df3['year_of_mission'] - df3['year_of_birth']\n",
    "\n",
    "df3"
   ]
  },
  {
   "cell_type": "code",
   "execution_count": null,
   "metadata": {},
   "outputs": [],
   "source": [
    "mission_year = df3[['year_of_mission']].to_numpy()\n",
    "mission_age = df3[['age_at_mission']].to_numpy()\n",
    "plt.figure(figsize = (12, 6))\n",
    "plt.scatter(mission_year, mission_age, marker= '+', color = 'red')\n",
    "plt.xlabel('Mission Year')\n",
    "plt.ylabel('Age at Mission Launch')\n",
    "plt.title('Distribution of Astronaut Age at Time of Spaceflight')\n",
    "plt.show();"
   ]
  },
  {
   "cell_type": "code",
   "execution_count": null,
   "metadata": {},
   "outputs": [],
   "source": [
    "##Mean Age of Astronauts at Mission Launch\n",
    "df3_mean = (df3.age_at_mission.mean())\n",
    "print('The average age of all astronauts at mission launch prior to 2020 is ' + str(round(df3_mean)) + ' ' + 'years old.' )"
   ]
  },
  {
   "cell_type": "code",
   "execution_count": null,
   "metadata": {},
   "outputs": [],
   "source": [
    "##Youngest Astronauts at Mission Launch\n",
    "df3_youngest = (df3[df3.age_at_mission == df3.age_at_mission.min()])\n",
    "df2_youngest.drop_duplicates(subset=['name'], keep= 'first')"
   ]
  },
  {
   "cell_type": "code",
   "execution_count": null,
   "metadata": {},
   "outputs": [],
   "source": [
    "wiki.summary(df3_youngest['name'], sentences=3)"
   ]
  },
  {
   "cell_type": "code",
   "execution_count": null,
   "metadata": {},
   "outputs": [],
   "source": [
    "#Oldest Astronauts at Mission Launch\n",
    "df3_oldest = (df3[df3.age_at_mission == df3.age_at_mission.max()])\n",
    "df3_oldest.drop_duplicates(subset=['name'], keep= 'first')"
   ]
  },
  {
   "cell_type": "code",
   "execution_count": null,
   "metadata": {},
   "outputs": [],
   "source": [
    "wiki.summary(df3_oldest['name'], sentences=4)"
   ]
  }
 ],
 "metadata": {
  "kernelspec": {
   "display_name": "Python 3.9.7 ('base')",
   "language": "python",
   "name": "python3"
  },
  "language_info": {
   "codemirror_mode": {
    "name": "ipython",
    "version": 3
   },
   "file_extension": ".py",
   "mimetype": "text/x-python",
   "name": "python",
   "nbconvert_exporter": "python",
   "pygments_lexer": "ipython3",
   "version": "3.9.7"
  },
  "orig_nbformat": 4,
  "vscode": {
   "interpreter": {
    "hash": "af43397983df6c5df17c91c68681f63fcec6c6cb2ae2cae4b2cedcef966d105b"
   }
  }
 },
 "nbformat": 4,
 "nbformat_minor": 2
}
